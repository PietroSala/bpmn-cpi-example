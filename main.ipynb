{
 "cells": [
  {
   "cell_type": "code",
   "execution_count": null,
   "metadata": {},
   "outputs": [],
   "source": [
    "from system import System\n",
    "s = System()"
   ]
  },
  {
   "cell_type": "code",
   "execution_count": null,
   "metadata": {},
   "outputs": [],
   "source": [
    "from aalpy.base import SUL\n",
    "from aalpy.learning_algs import run_stochastic_Lstar\n",
    "from aalpy.oracles import  RandomWordEqOracle\n",
    "from aalpy.utils import visualize_automaton\n",
    "\n",
    "BOUND = 100 \n",
    "SELECTED = [\n",
    "    \"command_executed\",\n",
    "    \"current_revenue\",\n",
    "    \"client_quantity\"\n",
    "]\n",
    "\n",
    "class SystemSUL(SUL):\n",
    "    def __init__(self):\n",
    "        super().__init__()\n",
    "        self.system = System()\n",
    "        \n",
    "        # self.alphabet = []\n",
    "        # for action in self.system.alphabet():\n",
    "        #     self.alphabet.append(action)\n",
    "\n",
    "        self.alphabet = [\"run\"]\n",
    "\n",
    "    def pre(self):\n",
    "        self.system.reset()\n",
    "\n",
    "    def post(self):\n",
    "        pass\n",
    "\n",
    "    def step(self, action):\n",
    "        if action is not None:\n",
    "            return self.system.enact_strategy(selected_components=SELECTED ,bound=BOUND)\n",
    "            #return self.system.action(action, repr=True)"
   ]
  },
  {
   "cell_type": "code",
   "execution_count": null,
   "metadata": {},
   "outputs": [],
   "source": [
    "MAX_ROUNDS = 50\n",
    "\n",
    "sul = SystemSUL() \n",
    "alphabet = sul.alphabet\n",
    "eq_oracle = RandomWordEqOracle(alphabet, sul, num_walks=10000, min_walk_len=10, max_walk_len=1000, reset_after_cex=True)\n",
    "learned_mdp = run_stochastic_Lstar(alphabet, sul, eq_oracle, n_c=30, n_resample=200, min_rounds=1, max_rounds=MAX_ROUNDS, print_level=2)\n",
    "\n",
    "#decomment to visualize the automaton\n",
    "#visualize_automaton(learned_mdp, display_same_state_trans=True)"
   ]
  },
  {
   "cell_type": "code",
   "execution_count": null,
   "metadata": {},
   "outputs": [],
   "source": [
    "learned_mdp.save('learned_mdp')"
   ]
  },
  {
   "cell_type": "code",
   "execution_count": null,
   "metadata": {},
   "outputs": [],
   "source": [
    "from parse_dot import parse_dot_file, create_transition_matrix, save_matrix_to_csv, save_node_labels\n",
    "import numpy as np\n",
    "\n",
    "# Define input and output files\n",
    "input_file = \"learned_mdp.dot\"\n",
    "matrix_output = \"transition_matrix.csv\"\n",
    "labels_output = \"node_labels.txt\"\n",
    "\n",
    "# Parse the DOT file\n",
    "print(f\"Parsing {input_file}...\")\n",
    "nodes, transitions = parse_dot_file(input_file)\n",
    "print(f\"Found {len(nodes)} nodes and {len(transitions)} transitions.\")\n",
    "\n",
    "# Create the transition matrix\n",
    "print(\"Creating transition matrix...\")\n",
    "matrix, node_ids = create_transition_matrix(nodes, transitions)\n",
    "\n",
    "# Save to CSV\n",
    "save_matrix_to_csv(matrix, matrix_output)\n",
    "\n",
    "# Save node labels\n",
    "save_node_labels(nodes, labels_output)\n",
    "\n",
    "# Generate summary information\n",
    "print(\"\\nMatrix Summary:\")\n",
    "print(f\"Shape: {matrix.shape}\")\n",
    "\n",
    "# Count non-zero transitions\n",
    "non_zero = np.count_nonzero(matrix)\n",
    "print(f\"Non-zero transitions: {non_zero}\")\n",
    "\n",
    "# Calculate sparsity\n",
    "sparsity = 1.0 - (non_zero / (matrix.shape[0] * matrix.shape[1]))\n",
    "print(f\"Sparsity: {sparsity:.4f} ({sparsity*100:.2f}%)\")\n",
    "\n",
    "# Find nodes with most outgoing transitions\n",
    "outgoing_counts = np.count_nonzero(matrix, axis=1)\n",
    "max_outgoing = np.max(outgoing_counts)\n",
    "nodes_with_max_outgoing = np.where(outgoing_counts == max_outgoing)[0]\n",
    "print(f\"Max outgoing transitions: {max_outgoing} (from nodes {', '.join(map(str, nodes_with_max_outgoing))})\")"
   ]
  },
  {
   "cell_type": "code",
   "execution_count": null,
   "metadata": {},
   "outputs": [],
   "source": [
    "from completion_states import generate_completion_state_labels\n",
    "\n",
    "dot_file = \"learned_mdp.dot\"\n",
    "    \n",
    "labels = generate_completion_state_labels(dot_file)\n",
    "    \n",
    "print(\"state_labels = {\")\n",
    "for state_id, label in labels.items():\n",
    "    print(f\"    {state_id}: \\\"{label}\\\",\")\n",
    "print(\"}\")"
   ]
  },
  {
   "cell_type": "code",
   "execution_count": null,
   "metadata": {},
   "outputs": [],
   "source": [
    "import pandas as pd\n",
    "\n",
    "state_labels = {int(k):v for k,v in   generate_completion_state_labels(dot_file).items()}\n",
    "\n",
    "# Example configuration - update with your specific parameters\n",
    "input_file = \"transition_matrix.csv\"\n",
    "source_node = 0\n",
    "target_states = list(state_labels.keys())  # Example target states\n",
    "max_steps = 50\n",
    "\n",
    "# Optional: provide human-readable labels for the states\n",
    "\n",
    "# Load the transition matrix\n",
    "matrix = pd.read_csv(input_file, index_col=0).values"
   ]
  },
  {
   "cell_type": "code",
   "execution_count": null,
   "metadata": {},
   "outputs": [],
   "source": [
    "from analysis import compute_step_by_step_probabilities, compute_cumulative_probabilities, analyze_predecessors, plot_with_predecessors\n",
    "\n",
    "time_series = compute_step_by_step_probabilities(matrix, source_node, target_states, max_steps)\n",
    "cumulative_series = compute_cumulative_probabilities(matrix, source_node, target_states, max_steps)\n",
    "\n",
    "# Analyze predecessors\n",
    "print(\"Analyzing predecessors...\")\n",
    "predecessors = analyze_predecessors(matrix, target_states, state_labels)\n",
    "\n",
    "# Create combined plot with predecessors\n",
    "print(\"Creating visualization...\")\n",
    "plot_with_predecessors(time_series, cumulative_series, matrix, source_node, \n",
    "                      target_states, predecessors, max_steps, state_labels)"
   ]
  },
  {
   "cell_type": "code",
   "execution_count": null,
   "metadata": {},
   "outputs": [],
   "source": [
    "from graphviz import Source\n",
    "from IPython.display import display\n",
    "from parse_dot import filter_dot_file\n",
    "\n",
    "# Define target states\n",
    "\n",
    "# Filter the DOT file and get the content\n",
    "filtered_dot_content = filter_dot_file(\"learned_mdp.dot\", target_states)\n",
    "\n",
    "# Render the graph directly\n",
    "graph = Source(filtered_dot_content)\n",
    "display(graph)\n",
    "\n",
    "# Optionally save the filtered DOT file\n",
    "with open(\"filtered_mdp.dot\", \"w\") as f:\n",
    "    f.write(filtered_dot_content)"
   ]
  }
 ],
 "metadata": {
  "kernelspec": {
   "display_name": "automata_learning",
   "language": "python",
   "name": "python3"
  },
  "language_info": {
   "codemirror_mode": {
    "name": "ipython",
    "version": 3
   },
   "file_extension": ".py",
   "mimetype": "text/x-python",
   "name": "python",
   "nbconvert_exporter": "python",
   "pygments_lexer": "ipython3",
   "version": "3.10.14"
  }
 },
 "nbformat": 4,
 "nbformat_minor": 2
}
